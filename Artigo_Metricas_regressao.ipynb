{
 "cells": [
  {
   "cell_type": "code",
   "execution_count": 2,
   "metadata": {},
   "outputs": [],
   "source": [
    "import pandas as pd\n",
    "import numpy as np\n",
    "from sklearn.ensemble import RandomForestRegressor\n",
    "from sklearn.tree import DecisionTreeRegressor "
   ]
  },
  {
   "cell_type": "code",
   "execution_count": 15,
   "metadata": {},
   "outputs": [],
   "source": [
    "df = pd.read_csv(\"cotacao_dolar.csv\")"
   ]
  },
  {
   "cell_type": "code",
   "execution_count": 17,
   "metadata": {},
   "outputs": [
    {
     "data": {
      "text/html": [
       "<div>\n",
       "<style scoped>\n",
       "    .dataframe tbody tr th:only-of-type {\n",
       "        vertical-align: middle;\n",
       "    }\n",
       "\n",
       "    .dataframe tbody tr th {\n",
       "        vertical-align: top;\n",
       "    }\n",
       "\n",
       "    .dataframe thead th {\n",
       "        text-align: right;\n",
       "    }\n",
       "</style>\n",
       "<table border=\"1\" class=\"dataframe\">\n",
       "  <thead>\n",
       "    <tr style=\"text-align: right;\">\n",
       "      <th></th>\n",
       "      <th>saldoMercado</th>\n",
       "      <th>saldoMercado_2</th>\n",
       "      <th>Valor</th>\n",
       "    </tr>\n",
       "  </thead>\n",
       "  <tbody>\n",
       "    <tr>\n",
       "      <td>0</td>\n",
       "      <td>211.18</td>\n",
       "      <td>129.34</td>\n",
       "      <td>0.79</td>\n",
       "    </tr>\n",
       "    <tr>\n",
       "      <td>1</td>\n",
       "      <td>0.00</td>\n",
       "      <td>-530.69</td>\n",
       "      <td>0.61</td>\n",
       "    </tr>\n",
       "    <tr>\n",
       "      <td>2</td>\n",
       "      <td>0.00</td>\n",
       "      <td>0.00</td>\n",
       "      <td>1.81</td>\n",
       "    </tr>\n",
       "    <tr>\n",
       "      <td>3</td>\n",
       "      <td>0.00</td>\n",
       "      <td>0.00</td>\n",
       "      <td>3.70</td>\n",
       "    </tr>\n",
       "    <tr>\n",
       "      <td>4</td>\n",
       "      <td>348.55</td>\n",
       "      <td>-331.49</td>\n",
       "      <td>2.10</td>\n",
       "    </tr>\n",
       "  </tbody>\n",
       "</table>\n",
       "</div>"
      ],
      "text/plain": [
       "   saldoMercado  saldoMercado_2  Valor\n",
       "0        211.18          129.34   0.79\n",
       "1          0.00         -530.69   0.61\n",
       "2          0.00            0.00   1.81\n",
       "3          0.00            0.00   3.70\n",
       "4        348.55         -331.49   2.10"
      ]
     },
     "execution_count": 17,
     "metadata": {},
     "output_type": "execute_result"
    }
   ],
   "source": [
    "df.head()"
   ]
  },
  {
   "cell_type": "code",
   "execution_count": 20,
   "metadata": {},
   "outputs": [
    {
     "data": {
      "text/html": [
       "<div>\n",
       "<style scoped>\n",
       "    .dataframe tbody tr th:only-of-type {\n",
       "        vertical-align: middle;\n",
       "    }\n",
       "\n",
       "    .dataframe tbody tr th {\n",
       "        vertical-align: top;\n",
       "    }\n",
       "\n",
       "    .dataframe thead th {\n",
       "        text-align: right;\n",
       "    }\n",
       "</style>\n",
       "<table border=\"1\" class=\"dataframe\">\n",
       "  <thead>\n",
       "    <tr style=\"text-align: right;\">\n",
       "      <th></th>\n",
       "      <th>saldoMercado</th>\n",
       "      <th>saldoMercado_2</th>\n",
       "      <th>Valor</th>\n",
       "    </tr>\n",
       "  </thead>\n",
       "  <tbody>\n",
       "    <tr>\n",
       "      <td>saldoMercado</td>\n",
       "      <td>1.000000</td>\n",
       "      <td>0.090796</td>\n",
       "      <td>0.934310</td>\n",
       "    </tr>\n",
       "    <tr>\n",
       "      <td>saldoMercado_2</td>\n",
       "      <td>0.090796</td>\n",
       "      <td>1.000000</td>\n",
       "      <td>0.115964</td>\n",
       "    </tr>\n",
       "    <tr>\n",
       "      <td>Valor</td>\n",
       "      <td>0.934310</td>\n",
       "      <td>0.115964</td>\n",
       "      <td>1.000000</td>\n",
       "    </tr>\n",
       "  </tbody>\n",
       "</table>\n",
       "</div>"
      ],
      "text/plain": [
       "                saldoMercado  saldoMercado_2     Valor\n",
       "saldoMercado        1.000000        0.090796  0.934310\n",
       "saldoMercado_2      0.090796        1.000000  0.115964\n",
       "Valor               0.934310        0.115964  1.000000"
      ]
     },
     "execution_count": 20,
     "metadata": {},
     "output_type": "execute_result"
    }
   ],
   "source": [
    "df.corr()"
   ]
  },
  {
   "cell_type": "code",
   "execution_count": 21,
   "metadata": {},
   "outputs": [
    {
     "data": {
      "text/html": [
       "<div>\n",
       "<style scoped>\n",
       "    .dataframe tbody tr th:only-of-type {\n",
       "        vertical-align: middle;\n",
       "    }\n",
       "\n",
       "    .dataframe tbody tr th {\n",
       "        vertical-align: top;\n",
       "    }\n",
       "\n",
       "    .dataframe thead th {\n",
       "        text-align: right;\n",
       "    }\n",
       "</style>\n",
       "<table border=\"1\" class=\"dataframe\">\n",
       "  <thead>\n",
       "    <tr style=\"text-align: right;\">\n",
       "      <th></th>\n",
       "      <th>saldoMercado</th>\n",
       "      <th>saldoMercado_2</th>\n",
       "      <th>Valor</th>\n",
       "    </tr>\n",
       "  </thead>\n",
       "  <tbody>\n",
       "    <tr>\n",
       "      <td>count</td>\n",
       "      <td>212739.000000</td>\n",
       "      <td>212739.000000</td>\n",
       "      <td>212739.000000</td>\n",
       "    </tr>\n",
       "    <tr>\n",
       "      <td>mean</td>\n",
       "      <td>840.927740</td>\n",
       "      <td>-8.001396</td>\n",
       "      <td>2.532518</td>\n",
       "    </tr>\n",
       "    <tr>\n",
       "      <td>std</td>\n",
       "      <td>1373.510947</td>\n",
       "      <td>364.062090</td>\n",
       "      <td>3.121715</td>\n",
       "    </tr>\n",
       "    <tr>\n",
       "      <td>min</td>\n",
       "      <td>-16564.970000</td>\n",
       "      <td>-19902.630000</td>\n",
       "      <td>0.010000</td>\n",
       "    </tr>\n",
       "    <tr>\n",
       "      <td>25%</td>\n",
       "      <td>0.000000</td>\n",
       "      <td>-77.400000</td>\n",
       "      <td>0.600000</td>\n",
       "    </tr>\n",
       "    <tr>\n",
       "      <td>50%</td>\n",
       "      <td>243.320000</td>\n",
       "      <td>-29.540000</td>\n",
       "      <td>1.550000</td>\n",
       "    </tr>\n",
       "    <tr>\n",
       "      <td>75%</td>\n",
       "      <td>1252.425000</td>\n",
       "      <td>50.850000</td>\n",
       "      <td>3.130000</td>\n",
       "    </tr>\n",
       "    <tr>\n",
       "      <td>max</td>\n",
       "      <td>107909.600000</td>\n",
       "      <td>8227.130000</td>\n",
       "      <td>246.680000</td>\n",
       "    </tr>\n",
       "  </tbody>\n",
       "</table>\n",
       "</div>"
      ],
      "text/plain": [
       "        saldoMercado  saldoMercado_2          Valor\n",
       "count  212739.000000   212739.000000  212739.000000\n",
       "mean      840.927740       -8.001396       2.532518\n",
       "std      1373.510947      364.062090       3.121715\n",
       "min    -16564.970000   -19902.630000       0.010000\n",
       "25%         0.000000      -77.400000       0.600000\n",
       "50%       243.320000      -29.540000       1.550000\n",
       "75%      1252.425000       50.850000       3.130000\n",
       "max    107909.600000     8227.130000     246.680000"
      ]
     },
     "execution_count": 21,
     "metadata": {},
     "output_type": "execute_result"
    }
   ],
   "source": [
    "df.describe()"
   ]
  },
  {
   "cell_type": "code",
   "execution_count": 23,
   "metadata": {},
   "outputs": [],
   "source": [
    "from sklearn.model_selection import train_test_split"
   ]
  },
  {
   "cell_type": "code",
   "execution_count": 25,
   "metadata": {},
   "outputs": [],
   "source": [
    "# Seleção de variáveis preditoras (Feature Selection)\n",
    "atributos = ['saldoMercado','saldoMercado_2']\n",
    "# Variável a ser prevista\n",
    "atrib_prev = ['Valor']\n",
    "\n",
    "# Criando objetos\n",
    "X = np.absolute(df[atributos].values)\n",
    "Y = df[atrib_prev].values\n",
    "\n",
    "\n",
    "# Definindo a taxa de split\n",
    "split_test_size = 0.3\n",
    "\n",
    "# Criando dados de treino e de teste\n",
    "X_treino, X_teste, Y_treino, Y_teste = train_test_split(X, Y, test_size = split_test_size, random_state = 42)\n"
   ]
  },
  {
   "cell_type": "code",
   "execution_count": 31,
   "metadata": {},
   "outputs": [
    {
     "name": "stderr",
     "output_type": "stream",
     "text": [
      "C:\\Users\\airton.junior\\AppData\\Local\\Continuum\\anaconda3\\lib\\site-packages\\ipykernel_launcher.py:2: DataConversionWarning: A column-vector y was passed when a 1d array was expected. Please change the shape of y to (n_samples,), for example using ravel().\n",
      "  \n"
     ]
    }
   ],
   "source": [
    "modelTreeRegressor = DecisionTreeRegressor().fit(X_treino, Y_treino)\n",
    "modelForestRegressor = RandomForestRegressor().fit(X_treino, Y_treino)"
   ]
  },
  {
   "cell_type": "code",
   "execution_count": 34,
   "metadata": {},
   "outputs": [
    {
     "data": {
      "text/plain": [
       "0.8355654455190136"
      ]
     },
     "execution_count": 34,
     "metadata": {},
     "output_type": "execute_result"
    }
   ],
   "source": [
    "modelTreeRegressor.score(X_teste,Y_teste)"
   ]
  },
  {
   "cell_type": "code",
   "execution_count": 33,
   "metadata": {},
   "outputs": [
    {
     "data": {
      "text/plain": [
       "0.9068992816020158"
      ]
     },
     "execution_count": 33,
     "metadata": {},
     "output_type": "execute_result"
    }
   ],
   "source": [
    "modelForestRegressor.score(X_teste,Y_teste)"
   ]
  },
  {
   "cell_type": "code",
   "execution_count": 35,
   "metadata": {},
   "outputs": [],
   "source": [
    "previsto = modelForestRegressor.predict(X_teste)\n",
    "real = Y_teste"
   ]
  },
  {
   "cell_type": "code",
   "execution_count": 43,
   "metadata": {},
   "outputs": [],
   "source": [
    "d = {\"Previsto\": [x for x in previsto], \"Real\":[x[0] for x in real]}\n",
    "df_resultado = pd.DataFrame(data=d)\n",
    "df_resultado['diff'] = df_resultado.Previsto - df_resultado.Real\n",
    "df_resultado['porcen'] =  np.absolute(((df_resultado.Previsto / df_resultado.Real)*100)-100)\n",
    "df_resultado = df_resultado.round(2)\n",
    "df_resultado = df_resultado.dropna()"
   ]
  },
  {
   "cell_type": "code",
   "execution_count": 45,
   "metadata": {},
   "outputs": [
    {
     "data": {
      "text/html": [
       "<div>\n",
       "<style scoped>\n",
       "    .dataframe tbody tr th:only-of-type {\n",
       "        vertical-align: middle;\n",
       "    }\n",
       "\n",
       "    .dataframe tbody tr th {\n",
       "        vertical-align: top;\n",
       "    }\n",
       "\n",
       "    .dataframe thead th {\n",
       "        text-align: right;\n",
       "    }\n",
       "</style>\n",
       "<table border=\"1\" class=\"dataframe\">\n",
       "  <thead>\n",
       "    <tr style=\"text-align: right;\">\n",
       "      <th></th>\n",
       "      <th>Previsto</th>\n",
       "      <th>Real</th>\n",
       "      <th>diff</th>\n",
       "      <th>porcen</th>\n",
       "    </tr>\n",
       "  </thead>\n",
       "  <tbody>\n",
       "    <tr>\n",
       "      <td>0</td>\n",
       "      <td>2.09</td>\n",
       "      <td>2.09</td>\n",
       "      <td>0.00</td>\n",
       "      <td>0.00</td>\n",
       "    </tr>\n",
       "    <tr>\n",
       "      <td>1</td>\n",
       "      <td>0.98</td>\n",
       "      <td>0.04</td>\n",
       "      <td>0.94</td>\n",
       "      <td>2356.58</td>\n",
       "    </tr>\n",
       "    <tr>\n",
       "      <td>2</td>\n",
       "      <td>1.58</td>\n",
       "      <td>1.70</td>\n",
       "      <td>-0.12</td>\n",
       "      <td>6.78</td>\n",
       "    </tr>\n",
       "    <tr>\n",
       "      <td>3</td>\n",
       "      <td>0.14</td>\n",
       "      <td>0.05</td>\n",
       "      <td>0.09</td>\n",
       "      <td>180.80</td>\n",
       "    </tr>\n",
       "    <tr>\n",
       "      <td>4</td>\n",
       "      <td>3.29</td>\n",
       "      <td>3.25</td>\n",
       "      <td>0.04</td>\n",
       "      <td>1.33</td>\n",
       "    </tr>\n",
       "  </tbody>\n",
       "</table>\n",
       "</div>"
      ],
      "text/plain": [
       "   Previsto  Real  diff   porcen\n",
       "0      2.09  2.09  0.00     0.00\n",
       "1      0.98  0.04  0.94  2356.58\n",
       "2      1.58  1.70 -0.12     6.78\n",
       "3      0.14  0.05  0.09   180.80\n",
       "4      3.29  3.25  0.04     1.33"
      ]
     },
     "execution_count": 45,
     "metadata": {},
     "output_type": "execute_result"
    }
   ],
   "source": [
    "df_resultado.head()"
   ]
  },
  {
   "cell_type": "code",
   "execution_count": 48,
   "metadata": {},
   "outputs": [
    {
     "name": "stdout",
     "output_type": "stream",
     "text": [
      "SE - Sum of Error: \n",
      "[RandomForestRegressor] - Total Real:  161922.24\n",
      "[RandomForestRegressor] - Total Prev:  162500.39\n",
      "[RandomForestRegressor] - SE Final:  578.11\n",
      "[RandomForestRegressor] - Total Porcentagem de diferença do previsto x real:  0.36%\n",
      "----------------------------------------------------------\n",
      "ME - Mean Error:  \n",
      "[RandomForestRegressor] - Total Registros: 63822\n",
      "[RandomForestRegressor] - Total Diff : 578\n",
      "[RandomForestRegressor] - ME Final : 0.009058\n",
      "----------------------------------------------------------\n",
      "MAE - Mean Absolute Error:  \n",
      "[RandomForestRegressor] - Total Registros: 63822\n",
      "[RandomForestRegressor] - Total Absolute Diff : 26926\n",
      "[RandomForestRegressor] - ME Final : 0.421887\n",
      "----------------------------------------------------------\n",
      "MPE - Mean Percentage Error:  \n",
      "[RandomForestRegressor] - Total Registros: 63822\n",
      "[RandomForestRegressor] - Total percent Diff: -12973334\n",
      "[RandomForestRegressor] - MPE Final : -203.27%\n",
      "----------------------------------------------------------\n",
      "MAPAE - Mean Absolute Percentage Error:  \n",
      "[RandomForestRegressor] - Total Registros: 63822\n",
      "[RandomForestRegressor] - Total percent Absolute Diff: 14157350\n",
      "[RandomForestRegressor] - MAPAE Final : 221.83%\n"
     ]
    }
   ],
   "source": [
    "#Nome do modelo de machine learning escolhido\n",
    "model_name = \"RandomForestRegressor\"\n",
    "\n",
    "#Somatorio das colunas de diferença, real, previsto e diferença absoluta (valores não negativos)\n",
    "total_diff = df_resultado.aggregate(['sum'])['diff'][0]\n",
    "total_absolute_diff = df_resultado['diff'].apply(lambda c: np.absolute(c).sum()).sum()\n",
    "total_real = df_resultado.aggregate(['sum'])['Real'][0]\n",
    "total_prev = df_resultado.aggregate(['sum'])['Previsto'][0]\n",
    "total_reg  = df_resultado.aggregate(['count'])['Real'][0]\n",
    "    \n",
    "# Percentual de diferença do previsto com o real  \n",
    "total_percent_diff = (((df_resultado['Real'] - df_resultado['Previsto']) / df_resultado['Real']) * 100)\n",
    "    \n",
    "# Remove valores infinitivos\n",
    "total_percent_diff          = total_percent_diff.replace([np.inf, -np.inf], np.nan).dropna(axis=0)\n",
    "    \n",
    "# Obtem total absoluto dos percentuais da diferença\n",
    "total_percent_absolute_diff = total_percent_diff.apply(lambda x: np.absolute(x).sum()).sum()\n",
    "    \n",
    "# Obtem total não absoluto dos percentuais da diferença\n",
    "total_percent_diff          = total_percent_diff.sum()\n",
    "    \n",
    "print(\"SE - Sum of Error: \")\n",
    "print(\"[\"+model_name+\"] - Total Real:  %.2f\" %(total_real))\n",
    "print(\"[\"+model_name+\"] - Total Prev:  %.2f\" %(total_prev))\n",
    "print(\"[\"+model_name+\"] - SE Final:  %.2f\" %(total_diff))\n",
    "print(\"[\"+model_name+\"] - Total Porcentagem de diferença do previsto x real:  {:.2f}%\".format(np.absolute(((total_diff / total_real)*100))))\n",
    "print(\"----------------------------------------------------------\")\n",
    "    \n",
    "print(\"ME - Mean Error:  \")\n",
    "print(\"[\"+model_name+\"] - Total Registros: %.f\" % (total_reg))\n",
    "print(\"[\"+model_name+\"] - Total Diff : %.f\" % (total_diff))\n",
    "print(\"[\"+model_name+\"] - ME Final : %.6f\" % (total_diff / total_reg))\n",
    "print(\"----------------------------------------------------------\")\n",
    "    \n",
    "print(\"MAE - Mean Absolute Error:  \")\n",
    "print(\"[\"+model_name+\"] - Total Registros: %.f\" % (total_reg))\n",
    "print(\"[\"+model_name+\"] - Total Absolute Diff : %.f\" % (total_absolute_diff))\n",
    "print(\"[\"+model_name+\"] - ME Final : %.6f\" % (total_absolute_diff / total_reg))\n",
    "print(\"----------------------------------------------------------\")\n",
    "    \n",
    "print(\"MPE - Mean Percentage Error:  \")\n",
    "print(\"[\"+model_name+\"] - Total Registros: %.f\" % (total_reg))\n",
    "print(\"[\"+model_name+\"] - Total percent Diff: %.f\" % (total_percent_diff))\n",
    "print(\"[\"+model_name+\"] - MPE Final : {:.2f}%\".format(total_percent_diff / total_reg))\n",
    "print(\"----------------------------------------------------------\")\n",
    "    \n",
    "print(\"MAPAE - Mean Absolute Percentage Error:  \")\n",
    "print(\"[\"+model_name+\"] - Total Registros: %.f\" % (total_reg))\n",
    "print(\"[\"+model_name+\"] - Total percent Absolute Diff: %.f\" % (total_percent_absolute_diff))\n",
    "print(\"[\"+model_name+\"] - MAPAE Final : {:.2f}%\".format(total_percent_absolute_diff / total_reg))"
   ]
  }
 ],
 "metadata": {
  "kernelspec": {
   "display_name": "Python 3",
   "language": "python",
   "name": "python3"
  },
  "language_info": {
   "codemirror_mode": {
    "name": "ipython",
    "version": 3
   },
   "file_extension": ".py",
   "mimetype": "text/x-python",
   "name": "python",
   "nbconvert_exporter": "python",
   "pygments_lexer": "ipython3",
   "version": "3.7.4"
  }
 },
 "nbformat": 4,
 "nbformat_minor": 4
}
